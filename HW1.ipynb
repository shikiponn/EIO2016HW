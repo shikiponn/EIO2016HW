{
 "cells": [
  {
   "cell_type": "markdown",
   "metadata": {},
   "source": [
    "# HW1\n"
   ]
  },
  {
   "cell_type": "markdown",
   "metadata": {},
   "source": [
    "ライブラリとデータの読み込み"
   ]
  },
  {
   "cell_type": "code",
   "execution_count": 54,
   "metadata": {
    "collapsed": false
   },
   "outputs": [],
   "source": [
    "df = read.csv(\"/Users/shiki/Dropbox/2016年度/EIO/DataMat.csv\")\n",
    "car <- rbind(c(1,5, 1), c(1.2, 3.5,1 ), c(1.4 , 2,1))#, c(0,0)) \n",
    "\n",
    "# w =  c(-5, 5, 5)"
   ]
  },
  {
   "cell_type": "markdown",
   "metadata": {},
   "source": [
    "前処理"
   ]
  },
  {
   "cell_type": "code",
   "execution_count": 55,
   "metadata": {
    "collapsed": false
   },
   "outputs": [
    {
     "name": "stdout",
     "output_type": "stream",
     "text": [
      "[1] \"車のデータ\"\n"
     ]
    },
    {
     "data": {
      "text/html": [
       "<table>\n",
       "<tbody>\n",
       "\t<tr><td>1</td><td>5</td><td>1</td></tr>\n",
       "\t<tr><td>1.2</td><td>3.5</td><td>1.0</td></tr>\n",
       "\t<tr><td>1.4</td><td>2.0</td><td>1.0</td></tr>\n",
       "</tbody>\n",
       "</table>\n"
      ],
      "text/latex": [
       "\\begin{tabular}{lll}\n",
       "\t 1 & 5 & 1\\\\\n",
       "\t 1.2 & 3.5 & 1.0\\\\\n",
       "\t 1.4 & 2.0 & 1.0\\\\\n",
       "\\end{tabular}\n"
      ],
      "text/markdown": [
       "1. 1\n",
       "2. 1.2\n",
       "3. 1.4\n",
       "4. 5\n",
       "5. 3.5\n",
       "6. 2\n",
       "7. 1\n",
       "8. 1\n",
       "9. 1\n",
       "\n",
       "\n"
      ],
      "text/plain": [
       "     [,1] [,2] [,3]\n",
       "[1,]  1.0  5.0    1\n",
       "[2,]  1.2  3.5    1\n",
       "[3,]  1.4  2.0    1"
      ]
     },
     "execution_count": 55,
     "metadata": {},
     "output_type": "execute_result"
    },
    {
     "name": "stdout",
     "output_type": "stream",
     "text": [
      "[1] \"データの外観\"\n"
     ]
    },
    {
     "data": {
      "text/html": [
       "<table>\n",
       "<thead><tr><th></th><th scope=col>choice</th><th scope=col>age</th><th scope=col>gender</th><th scope=col>const</th><th scope=col>choice0</th><th scope=col>choice1</th><th scope=col>choice2</th><th scope=col>choice3</th><th scope=col>pchoice0</th><th scope=col>pchoice1</th><th scope=col>pchoice2</th><th scope=col>pchoice3</th></tr></thead>\n",
       "<tbody>\n",
       "\t<tr><th scope=row>1</th><td>3</td><td>46</td><td>1</td><td>1</td><td>0</td><td>0</td><td>0</td><td>1</td><td>0</td><td>0</td><td>0</td><td>0</td></tr>\n",
       "\t<tr><th scope=row>2</th><td>0</td><td>29</td><td>1</td><td>1</td><td>1</td><td>0</td><td>0</td><td>0</td><td>0</td><td>0</td><td>0</td><td>0</td></tr>\n",
       "\t<tr><th scope=row>3</th><td>1</td><td>27</td><td>0</td><td>1</td><td>0</td><td>1</td><td>0</td><td>0</td><td>0</td><td>0</td><td>0</td><td>0</td></tr>\n",
       "\t<tr><th scope=row>4</th><td>3</td><td>36</td><td>0</td><td>1</td><td>0</td><td>0</td><td>0</td><td>1</td><td>0</td><td>0</td><td>0</td><td>0</td></tr>\n",
       "\t<tr><th scope=row>5</th><td>3</td><td>39</td><td>0</td><td>1</td><td>0</td><td>0</td><td>0</td><td>1</td><td>0</td><td>0</td><td>0</td><td>0</td></tr>\n",
       "\t<tr><th scope=row>6</th><td>3</td><td>54</td><td>1</td><td>1</td><td>0</td><td>0</td><td>0</td><td>1</td><td>0</td><td>0</td><td>0</td><td>0</td></tr>\n",
       "</tbody>\n",
       "</table>\n"
      ],
      "text/latex": [
       "\\begin{tabular}{r|llllllllllll}\n",
       "  & choice & age & gender & const & choice0 & choice1 & choice2 & choice3 & pchoice0 & pchoice1 & pchoice2 & pchoice3\\\\\n",
       "\\hline\n",
       "\t1 & 3 & 46 & 1 & 1 & 0 & 0 & 0 & 1 & 0 & 0 & 0 & 0\\\\\n",
       "\t2 & 0 & 29 & 1 & 1 & 1 & 0 & 0 & 0 & 0 & 0 & 0 & 0\\\\\n",
       "\t3 & 1 & 27 & 0 & 1 & 0 & 1 & 0 & 0 & 0 & 0 & 0 & 0\\\\\n",
       "\t4 & 3 & 36 & 0 & 1 & 0 & 0 & 0 & 1 & 0 & 0 & 0 & 0\\\\\n",
       "\t5 & 3 & 39 & 0 & 1 & 0 & 0 & 0 & 1 & 0 & 0 & 0 & 0\\\\\n",
       "\t6 & 3 & 54 & 1 & 1 & 0 & 0 & 0 & 1 & 0 & 0 & 0 & 0\\\\\n",
       "\\end{tabular}\n"
      ],
      "text/plain": [
       "  choice age gender const choice0 choice1 choice2 choice3 pchoice0 pchoice1\n",
       "1      3  46      1     1       0       0       0       1        0        0\n",
       "2      0  29      1     1       1       0       0       0        0        0\n",
       "3      1  27      0     1       0       1       0       0        0        0\n",
       "4      3  36      0     1       0       0       0       1        0        0\n",
       "5      3  39      0     1       0       0       0       1        0        0\n",
       "6      3  54      1     1       0       0       0       1        0        0\n",
       "  pchoice2 pchoice3\n",
       "1        0        0\n",
       "2        0        0\n",
       "3        0        0\n",
       "4        0        0\n",
       "5        0        0\n",
       "6        0        0"
      ]
     },
     "execution_count": 55,
     "metadata": {},
     "output_type": "execute_result"
    }
   ],
   "source": [
    "df = data.frame(df,\"const\" =1+numeric(length(dim(df)[1])),\n",
    "                \"choice0\"=numeric(length(dim(df)[1])),\n",
    "                \"choice1\"=numeric(length(dim(df)[1])),\n",
    "                \"choice2\"=numeric(length(dim(df)[1])),\n",
    "                \"choice3\"=numeric(length(dim(df)[1])),\n",
    "                \"pchoice0\"=numeric(length(dim(df)[1])),\n",
    "                \"pchoice1\"=numeric(length(dim(df)[1])),\n",
    "                \"pchoice2\"=numeric(length(dim(df)[1])),\n",
    "                \"pchoice3\"=numeric(length(dim(df)[1]))\n",
    "               )\n",
    "\n",
    "\n",
    "print(\"車のデータ\")\n",
    "car\n",
    "# ダミーを個別に変換\n",
    "df[\"choice0\"] = ifelse(df$choice == 0, 1,0)\n",
    "df[\"choice1\"] = ifelse(df$choice == 1, 1,0)\n",
    "df[\"choice2\"] = ifelse(df$choice == 2,1,0)\n",
    "df[\"choice3\"] = ifelse(df$choice == 3,1,0)\n",
    "print(\"データの外観\")\n",
    "head(df)\n"
   ]
  },
  {
   "cell_type": "code",
   "execution_count": 56,
   "metadata": {
    "collapsed": false,
    "scrolled": true
   },
   "outputs": [],
   "source": [
    "calc_LH <- function(df) {\n",
    "    return(function(w){\n",
    "        for(i in 1:nrow(df)){\n",
    "            a = exp((as.matrix(df[i, c(\"age\",\"gender\",\"const\")]) * car[1,])%*% w)\n",
    "            b = exp((as.matrix(df[i, c(\"age\",\"gender\",\"const\")]) * car[2,])%*% w)\n",
    "            c = exp((as.matrix(df[i, c(\"age\",\"gender\",\"const\")]) * car[3,])%*% w)\n",
    "            sum = a+b+c+1\n",
    "            df[i, \"pchoice0\"] = log(1-((a+b+c)/sum))\n",
    "            df[i, \"pchoice1\"] = log(a/sum)\n",
    "            df[i, \"pchoice2\"] = log(b/sum)\n",
    "            df[i, \"pchoice3\"] = log(c/sum)\n",
    "        }   \n",
    "        vec = as.matrix(df[,c(\"choice0\",\"choice1\",\"choice2\",\"choice3\")]*df[,c(\"pchoice0\", \"pchoice1\",\"pchoice2\",\"pchoice3\")]) %*% as.matrix(numeric(4)+1)\n",
    "#     print(head(df,3))\n",
    "#         print( head(as.matrix(df[,c(\"choice0\",\"choice1\",\"choice2\",\"choice3\")]*df[,c(\"pchoice0\", \"pchoice1\",\"pchoice2\",\"pchoice3\")])))\n",
    "#         print(head(vec))\n",
    "#         print(-sum(vec))\n",
    "        #     print(head(vec,20))\n",
    "    #  vec <- replace(vec, which(vec == 0), 1) \n",
    "    #  print(head(vec,20))\n",
    "        #負の対数尤度を返す\n",
    "        LH = -sum(vec)\n",
    "        return(LH)\n",
    "    })\n",
    "}\n",
    "\n"
   ]
  },
  {
   "cell_type": "code",
   "execution_count": 57,
   "metadata": {
    "collapsed": false
   },
   "outputs": [],
   "source": [
    "# #dfと重みを与えるとLHを返す関数\n",
    "\n",
    "# calc_LH <- function(w) {\n",
    "#     for(i in 1:nrow(df)){\n",
    "#         #exp()を各財ごとに計算\n",
    "#         a = exp((as.matrix(df[i, c(\"age\",\"gender\",\"const\")]) * car[1,])%*% w)\n",
    "#         b = exp((as.matrix(df[i, c(\"age\",\"gender\",\"const\")]) * car[2,])%*% w)\n",
    "#         c = exp((as.matrix(df[i, c(\"age\",\"gender\",\"const\")]) * car[3,])%*% w)\n",
    "#         sum = a+b+c+1\n",
    "#         df[i, \"pchoice1\"] = log(a/sum)\n",
    "#         df[i, \"pchoice2\"] = log(b/sum)\n",
    "#         df[i, \"pchoice3\"] = log(c/sum)\n",
    "#     }   \n",
    "#     vec = as.matrix(df[,c(\"choice1\",\"choice2\",\"choice3\")]*df[,c(\"pchoice1\",\"pchoice2\",\"pchoice3\")]) %*% as.matrix(numeric(3)+1)\n",
    "# # print(head(df,3))\n",
    "# #     print( head(as.matrix(df[,c(\"choice1\",\"choice2\",\"choice3\")]*df[,c(\"pchoice1\",\"pchoice2\",\"pchoice3\")])))\n",
    "# #     print(head(vec))\n",
    "# #     print(-sum(vec))\n",
    "#     #     print(head(vec,20))\n",
    "#     #負の対数尤度を返す\n",
    "#     LH = -sum(vec)\n",
    "#     return(LH)   \n",
    "# }\n",
    "\n",
    "# print(calc_LH(c(0.1, -1 , -2)))\n",
    "# print(calc_LH(c(0.09608286, -1.02566259 ,24.22005946)))"
   ]
  },
  {
   "cell_type": "markdown",
   "metadata": {},
   "source": [
    "最適化"
   ]
  },
  {
   "cell_type": "code",
   "execution_count": 58,
   "metadata": {
    "collapsed": false,
    "scrolled": true
   },
   "outputs": [
    {
     "ename": "ERROR",
     "evalue": "Error in vapply(seq_along(mapped), function(i) {:  値の長さは 1 でなければなりません、 \n しかし、FUN(X[[5]]) の結果の長さが 0 です \n",
     "output_type": "error",
     "traceback": [
      "Error in vapply(seq_along(mapped), function(i) {:  値の長さは 1 でなければなりません、 \n しかし、FUN(X[[5]]) の結果の長さが 0 です \n"
     ]
    },
    {
     "data": {
      "text/plain": [
       "$par\n",
       "[1]  0.0971784 -1.0269089 -1.8863144\n",
       "\n",
       "$value\n",
       "[1] 8361.77\n",
       "\n",
       "$counts\n",
       "function gradient \n",
       "     184       NA \n",
       "\n",
       "$convergence\n",
       "[1] 0\n",
       "\n",
       "$message\n",
       "NULL\n"
      ]
     },
     "execution_count": 58,
     "metadata": {},
     "output_type": "execute_result"
    }
   ],
   "source": [
    "optim(par = c(0, 0, 0), fn = calc_LH(df))#, method = \"BFGS\")#最小化する\n",
    "# print(res)\n",
    "# calc_LH(res$par)\n",
    "# nlm(calc_LH, w) true -2 0.1 -1この表記法なら0.1, -1, -2"
   ]
  },
  {
   "cell_type": "markdown",
   "metadata": {},
   "source": [
    "推定されたパラメータは上記の$parつまり  \n",
    " 0.0971784,  -1.0269089 , -1.8863144  \n",
    " である。\n",
    " \n",
    " 真の値は0.1, -1, -2なのでそれなりの精度で推定出来ている。"
   ]
  }
 ],
 "metadata": {
  "kernelspec": {
   "display_name": "R",
   "language": "R",
   "name": "ir"
  },
  "language_info": {
   "codemirror_mode": "r",
   "file_extension": ".r",
   "mimetype": "text/x-r-source",
   "name": "R",
   "pygments_lexer": "r",
   "version": "3.2.3"
  }
 },
 "nbformat": 4,
 "nbformat_minor": 0
}
