{
 "cells": [
  {
   "cell_type": "markdown",
   "metadata": {},
   "source": [
    "# HW1\n"
   ]
  },
  {
   "cell_type": "markdown",
   "metadata": {},
   "source": [
    "ライブラリとデータの読み込み"
   ]
  },
  {
   "cell_type": "code",
   "execution_count": 21,
   "metadata": {
    "collapsed": false
   },
   "outputs": [],
   "source": [
    "library(VGAM)"
   ]
  },
  {
   "cell_type": "code",
   "execution_count": 22,
   "metadata": {
    "collapsed": false
   },
   "outputs": [],
   "source": [
    "df = read.csv(\"/Users/shiki/Dropbox/2016年度/EIO/DataMat.csv\")\n",
    "car <- rbind(c(1,5), c(1.2, 3.5), c(1.4 , 2), c(0,0)) "
   ]
  },
  {
   "cell_type": "markdown",
   "metadata": {},
   "source": [
    "前処理"
   ]
  },
  {
   "cell_type": "code",
   "execution_count": 23,
   "metadata": {
    "collapsed": false
   },
   "outputs": [
    {
     "name": "stdout",
     "output_type": "stream",
     "text": [
      "[1] \"データの外観\"\n"
     ]
    },
    {
     "data": {
      "text/html": [
       "<table>\n",
       "<thead><tr><th></th><th scope=col>choice</th><th scope=col>age</th><th scope=col>gender</th></tr></thead>\n",
       "<tbody>\n",
       "\t<tr><th scope=row>1</th><td>3</td><td>46</td><td>1</td></tr>\n",
       "\t<tr><th scope=row>2</th><td>0</td><td>29</td><td>1</td></tr>\n",
       "\t<tr><th scope=row>3</th><td>1</td><td>27</td><td>0</td></tr>\n",
       "\t<tr><th scope=row>4</th><td>3</td><td>36</td><td>0</td></tr>\n",
       "\t<tr><th scope=row>5</th><td>3</td><td>39</td><td>0</td></tr>\n",
       "\t<tr><th scope=row>6</th><td>3</td><td>54</td><td>1</td></tr>\n",
       "</tbody>\n",
       "</table>\n"
      ],
      "text/latex": [
       "\\begin{tabular}{r|lll}\n",
       "  & choice & age & gender\\\\\n",
       "\\hline\n",
       "\t1 & 3 & 46 & 1\\\\\n",
       "\t2 & 0 & 29 & 1\\\\\n",
       "\t3 & 1 & 27 & 0\\\\\n",
       "\t4 & 3 & 36 & 0\\\\\n",
       "\t5 & 3 & 39 & 0\\\\\n",
       "\t6 & 3 & 54 & 1\\\\\n",
       "\\end{tabular}\n"
      ],
      "text/plain": [
       "  choice age gender\n",
       "1      3  46      1\n",
       "2      0  29      1\n",
       "3      1  27      0\n",
       "4      3  36      0\n",
       "5      3  39      0\n",
       "6      3  54      1"
      ]
     },
     "execution_count": 23,
     "metadata": {},
     "output_type": "execute_result"
    },
    {
     "name": "stdout",
     "output_type": "stream",
     "text": [
      "[1] \"車のデータ\"\n"
     ]
    },
    {
     "data": {
      "text/html": [
       "<table>\n",
       "<tbody>\n",
       "\t<tr><td>1</td><td>5</td></tr>\n",
       "\t<tr><td>1.2</td><td>3.5</td></tr>\n",
       "\t<tr><td>1.4</td><td>2.0</td></tr>\n",
       "\t<tr><td>0</td><td>0</td></tr>\n",
       "</tbody>\n",
       "</table>\n"
      ],
      "text/latex": [
       "\\begin{tabular}{ll}\n",
       "\t 1 & 5\\\\\n",
       "\t 1.2 & 3.5\\\\\n",
       "\t 1.4 & 2.0\\\\\n",
       "\t 0 & 0\\\\\n",
       "\\end{tabular}\n"
      ],
      "text/markdown": [
       "1. 1\n",
       "2. 1.2\n",
       "3. 1.4\n",
       "4. 0\n",
       "5. 5\n",
       "6. 3.5\n",
       "7. 2\n",
       "8. 0\n",
       "\n",
       "\n"
      ],
      "text/plain": [
       "     [,1] [,2]\n",
       "[1,]  1.0  5.0\n",
       "[2,]  1.2  3.5\n",
       "[3,]  1.4  2.0\n",
       "[4,]  0.0  0.0"
      ]
     },
     "execution_count": 23,
     "metadata": {},
     "output_type": "execute_result"
    }
   ],
   "source": [
    "print(\"データの外観\")\n",
    "head(df)\n",
    "print(\"車のデータ\")\n",
    "car"
   ]
  },
  {
   "cell_type": "code",
   "execution_count": 24,
   "metadata": {
    "collapsed": false
   },
   "outputs": [
    {
     "data": {
      "text/html": [
       "<table>\n",
       "<thead><tr><th></th><th scope=col>choice</th><th scope=col>age*hp</th><th scope=col>gender*fe</th></tr></thead>\n",
       "<tbody>\n",
       "\t<tr><th scope=row>1</th><td>3</td><td>64.4</td><td>2</td></tr>\n",
       "\t<tr><th scope=row>2</th><td>0</td><td>0</td><td>0</td></tr>\n",
       "\t<tr><th scope=row>3</th><td>1</td><td>27</td><td>0</td></tr>\n",
       "\t<tr><th scope=row>4</th><td>3</td><td>50.4</td><td>0</td></tr>\n",
       "\t<tr><th scope=row>5</th><td>3</td><td>54.6</td><td>0</td></tr>\n",
       "\t<tr><th scope=row>6</th><td>3</td><td>75.6</td><td>2</td></tr>\n",
       "</tbody>\n",
       "</table>\n"
      ],
      "text/latex": [
       "\\begin{tabular}{r|lll}\n",
       "  & choice & age*hp & gender*fe\\\\\n",
       "\\hline\n",
       "\t1 & 3 & 64.4 & 2\\\\\n",
       "\t2 & 0 & 0 & 0\\\\\n",
       "\t3 & 1 & 27 & 0\\\\\n",
       "\t4 & 3 & 50.4 & 0\\\\\n",
       "\t5 & 3 & 54.6 & 0\\\\\n",
       "\t6 & 3 & 75.6 & 2\\\\\n",
       "\\end{tabular}\n"
      ],
      "text/plain": [
       "  choice age*hp gender*fe\n",
       "1      3   64.4         2\n",
       "2      0    0.0         0\n",
       "3      1   27.0         0\n",
       "4      3   50.4         0\n",
       "5      3   54.6         0\n",
       "6      3   75.6         2"
      ]
     },
     "execution_count": 24,
     "metadata": {},
     "output_type": "execute_result"
    }
   ],
   "source": [
    "for(i in 1:nrow(df)){\n",
    "#   element=data[i,]\n",
    "    print\n",
    "    if(df[i, 1] == 1){             \n",
    "        df[i, 2:3] = df[i, 2:3]*car[1,]\n",
    "    }else if(df[i, 1] == 2){\n",
    "        df[i, 2:3] = df[i, 2:3]*car[2,]        \n",
    "    }else if(df[i, 1] == 3){\n",
    "        df[i, 2:3] = df[i, 2:3]*car[3,]        \n",
    "    }else if(df[i, 1] == 0){\n",
    "        df[i, 2:3] = df[i, 2:3]*car[4,]        \n",
    "    }\n",
    "#     break\n",
    "}\n",
    "colnames(df) <- c(\"choice\", \"age*hp\", \"gender*fe\") \n",
    "df$choice = as.factor(df$choice)\n",
    "head(df)"
   ]
  },
  {
   "cell_type": "markdown",
   "metadata": {},
   "source": [
    "多項ロジット回帰を行い結果を表示"
   ]
  },
  {
   "cell_type": "code",
   "execution_count": 26,
   "metadata": {
    "collapsed": false
   },
   "outputs": [
    {
     "name": "stderr",
     "output_type": "stream",
     "text": [
      "Warning message:\n",
      "In checkwz(wz, M = M, trace = trace, wzepsilon = control$wzepsilon): 298 elements replaced by 1.819e-12Warning message:\n",
      "In checkwz(wz, M = M, trace = trace, wzepsilon = control$wzepsilon): 1971 elements replaced by 1.819e-12Warning message:\n",
      "In checkwz(wz, M = M, trace = trace, wzepsilon = control$wzepsilon): 3280 elements replaced by 1.819e-12Warning message:\n",
      "In checkwz(wz, M = M, trace = trace, wzepsilon = control$wzepsilon): 4343 elements replaced by 1.819e-12Warning message:\n",
      "In checkwz(wz, M = M, trace = trace, wzepsilon = control$wzepsilon): 5275 elements replaced by 1.819e-12Warning message:\n",
      "In checkwz(wz, M = M, trace = trace, wzepsilon = control$wzepsilon): 5916 elements replaced by 1.819e-12Warning message:\n",
      "In checkwz(wz, M = M, trace = trace, wzepsilon = control$wzepsilon): 6352 elements replaced by 1.819e-12Warning message:\n",
      "In checkwz(wz, M = M, trace = trace, wzepsilon = control$wzepsilon): 6774 elements replaced by 1.819e-12Warning message:\n",
      "In checkwz(wz, M = M, trace = trace, wzepsilon = control$wzepsilon): 7124 elements replaced by 1.819e-12Warning message:\n",
      "In checkwz(wz, M = M, trace = trace, wzepsilon = control$wzepsilon): 7465 elements replaced by 1.819e-12Warning message:\n",
      "In checkwz(wz, M = M, trace = trace, wzepsilon = control$wzepsilon): 7627 elements replaced by 1.819e-12Warning message:\n",
      "In checkwz(wz, M = M, trace = trace, wzepsilon = control$wzepsilon): 7779 elements replaced by 1.819e-12Warning message:\n",
      "In checkwz(wz, M = M, trace = trace, wzepsilon = control$wzepsilon): 7974 elements replaced by 1.819e-12Warning message:\n",
      "In checkwz(wz, M = M, trace = trace, wzepsilon = control$wzepsilon): 8137 elements replaced by 1.819e-12Warning message:\n",
      "In checkwz(wz, M = M, trace = trace, wzepsilon = control$wzepsilon): 8295 elements replaced by 1.819e-12Warning message:\n",
      "In vglm.fitter(x = x, y = y, w = w, offset = offset, Xm2 = Xm2, : convergence not obtained in 21 iterations"
     ]
    },
    {
     "data": {
      "text/plain": [
       "\n",
       "Call:\n",
       "vglm(formula = choice ~ ., family = multinomial, data = df)\n",
       "\n",
       "Pearson residuals:\n",
       "                          Min         1Q     Median         3Q       Max\n",
       "log(mu[,1]/mu[,4])  3.336e-08  5.576e-08  7.576e-08  9.754e-08 4.089e-04\n",
       "log(mu[,2]/mu[,4]) -1.086e+00 -2.322e-01 -9.217e-02 -3.146e-02 2.788e+01\n",
       "log(mu[,3]/mu[,4]) -1.073e+00 -4.650e-01 -3.263e-01 -1.371e-07 4.317e+00\n",
       "\n",
       "Coefficients:\n",
       "                Estimate Std. Error z value Pr(>|z|)    \n",
       "(Intercept):1  23.405921 334.137661   0.070    0.944    \n",
       "(Intercept):2   3.339679   0.169443  19.710   <2e-16 ***\n",
       "(Intercept):3   1.644059   0.107691  15.266   <2e-16 ***\n",
       "`age*hp`:1     -1.771152  19.894256  -0.089    0.929    \n",
       "`age*hp`:2     -0.107829   0.004029 -26.765   <2e-16 ***\n",
       "`age*hp`:3     -0.051316   0.002015 -25.461   <2e-16 ***\n",
       "`gender*fe`:1  -0.017895 215.443212   0.000    1.000    \n",
       "`gender*fe`:2  -0.691933   0.058950 -11.738   <2e-16 ***\n",
       "`gender*fe`:3  -0.249599   0.027160  -9.190   <2e-16 ***\n",
       "---\n",
       "Signif. codes:  0 ‘***’ 0.001 ‘**’ 0.01 ‘*’ 0.05 ‘.’ 0.1 ‘ ’ 1\n",
       "\n",
       "Number of linear predictors:  3 \n",
       "\n",
       "Names of linear predictors: \n",
       "log(mu[,1]/mu[,4]), log(mu[,2]/mu[,4]), log(mu[,3]/mu[,4])\n",
       "\n",
       "Dispersion Parameter for multinomial family:   1\n",
       "\n",
       "Residual deviance: 10541.29 on 29991 degrees of freedom\n",
       "\n",
       "Log-likelihood: -5270.645 on 29991 degrees of freedom\n",
       "\n",
       "Number of iterations: 21 \n",
       "\n",
       "Reference group is level  4  of the response"
      ]
     },
     "execution_count": 26,
     "metadata": {},
     "output_type": "execute_result"
    }
   ],
   "source": [
    "df.vglm<-vglm(choice~.,df,family=multinomial)\n",
    "summary(df.vglm)"
   ]
  },
  {
   "cell_type": "markdown",
   "metadata": {},
   "source": [
    "係数は上記のようになった\n",
    "\n",
    "ついでに元データを入れてどう分類されるか見てみる"
   ]
  },
  {
   "cell_type": "code",
   "execution_count": 34,
   "metadata": {
    "collapsed": false
   },
   "outputs": [
    {
     "name": "stdout",
     "output_type": "stream",
     "text": [
      "[1] \"最初の6つを比べる\"\n",
      "[1] \"prediction\"\n"
     ]
    },
    {
     "data": {
      "text/html": [
       "<table>\n",
       "<tbody>\n",
       "\t<tr><td>3</td></tr>\n",
       "\t<tr><td>0</td></tr>\n",
       "\t<tr><td>1</td></tr>\n",
       "\t<tr><td>3</td></tr>\n",
       "\t<tr><td>3</td></tr>\n",
       "\t<tr><td>3</td></tr>\n",
       "</tbody>\n",
       "</table>\n"
      ],
      "text/latex": [
       "\\begin{tabular}{l}\n",
       "\t 3\\\\\n",
       "\t 0\\\\\n",
       "\t 1\\\\\n",
       "\t 3\\\\\n",
       "\t 3\\\\\n",
       "\t 3\\\\\n",
       "\\end{tabular}\n"
      ],
      "text/markdown": [
       "1. 3\n",
       "2. 0\n",
       "3. 1\n",
       "4. 3\n",
       "5. 3\n",
       "6. 3\n",
       "\n",
       "\n"
      ],
      "text/plain": [
       "     [,1]\n",
       "[1,]    3\n",
       "[2,]    0\n",
       "[3,]    1\n",
       "[4,]    3\n",
       "[5,]    3\n",
       "[6,]    3"
      ]
     },
     "execution_count": 34,
     "metadata": {},
     "output_type": "execute_result"
    },
    {
     "name": "stdout",
     "output_type": "stream",
     "text": [
      "[1] \"実データ\"\n"
     ]
    },
    {
     "data": {
      "text/html": [
       "<ol class=list-inline>\n",
       "\t<li>3</li>\n",
       "\t<li>0</li>\n",
       "\t<li>1</li>\n",
       "\t<li>3</li>\n",
       "\t<li>3</li>\n",
       "\t<li>3</li>\n",
       "</ol>\n"
      ],
      "text/latex": [
       "\\begin{enumerate*}\n",
       "\\item 3\n",
       "\\item 0\n",
       "\\item 1\n",
       "\\item 3\n",
       "\\item 3\n",
       "\\item 3\n",
       "\\end{enumerate*}\n"
      ],
      "text/markdown": [
       "1. 3\n",
       "2. 0\n",
       "3. 1\n",
       "4. 3\n",
       "5. 3\n",
       "6. 3\n",
       "\n",
       "\n"
      ],
      "text/plain": [
       "[1] 3 0 1 3 3 3\n",
       "Levels: 0 1 2 3"
      ]
     },
     "execution_count": 34,
     "metadata": {},
     "output_type": "execute_result"
    }
   ],
   "source": [
    "out.vglm<-predict(df.vglm,type=\"response\")\n",
    "\n",
    "out.vglm.class<-matrix(rep(0,dim(out.vglm)[1]),ncol=1)\n",
    "for (i in 1:length(out.vglm.class))\n",
    " {\n",
    "     out.vglm.class[i]<-as.numeric(which.max(out.vglm[i,]))-1\n",
    "}\n",
    "\n",
    "print(\"最初の6つを比べる\")\n",
    "print(\"prediction\")\n",
    "head(out.vglm.class[])\n",
    "print(\"実データ\")\n",
    "head(df$choice)\n"
   ]
  },
  {
   "cell_type": "markdown",
   "metadata": {},
   "source": [
    "きちんと元データを分類できている。"
   ]
  }
 ],
 "metadata": {
  "kernelspec": {
   "display_name": "R",
   "language": "R",
   "name": "ir"
  },
  "language_info": {
   "codemirror_mode": "r",
   "file_extension": ".r",
   "mimetype": "text/x-r-source",
   "name": "R",
   "pygments_lexer": "r",
   "version": "3.2.3"
  }
 },
 "nbformat": 4,
 "nbformat_minor": 0
}
